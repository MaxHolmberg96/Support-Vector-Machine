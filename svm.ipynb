{
 "cells": [
  {
   "cell_type": "code",
   "execution_count": 62,
   "metadata": {},
   "outputs": [],
   "source": [
    "import numpy as np, random, math\n",
    "from scipy.optimize import minimize \n",
    "import matplotlib.pyplot as plt"
   ]
  },
  {
   "cell_type": "markdown",
   "metadata": {},
   "source": [
    "## Generate data"
   ]
  },
  {
   "cell_type": "code",
   "execution_count": 459,
   "metadata": {},
   "outputs": [],
   "source": [
    "np.random.seed(101)\n",
    "\n",
    "nrA = 5\n",
    "classA = np.concatenate((np.random.randn(nrA, 2) * 0.2 + [1.2, 1],\n",
    "                                np.random.randn(nrA, 2) * 0.2 + [1.2, 1]))\n",
    "#classA = np.random.randn(nrA, 2) * 0.2 + [1.5, 0.5]\n",
    "nrB = 5\n",
    "classB = np.random.randn(nrB , 2) * 0.2 + [0.5 , 0.5]\n",
    "classB = np.concatenate((classB, np.random.randn(nrB, 2) * 0.2 + [1.7 , 1.7]))\n",
    "\n",
    "inputs = np.concatenate((classA, classB))\n",
    "targets = np.concatenate((np.ones(classA.shape[0]), -np.ones(classB.shape[0])))\n",
    "\n",
    "N = inputs.shape[0] # Number of rows (samples)\n",
    "permute=list(range(N)) \n",
    "random.shuffle(permute)\n",
    "inputs = inputs[permute, :]\n",
    "targets = targets[permute]"
   ]
  },
  {
   "cell_type": "markdown",
   "metadata": {},
   "source": [
    "## Plot the data"
   ]
  },
  {
   "cell_type": "code",
   "execution_count": 460,
   "metadata": {},
   "outputs": [
    {
     "data": {
      "image/png": "[encoded data removed]",
      "text/plain": [
       "<Figure size 432x288 with 1 Axes>"
      ]
     },
     "metadata": {
      "needs_background": "light"
     },
     "output_type": "display_data"
    }
   ],
   "source": [
    "plt.plot([p[0] for p in classA], [p[1] for p in classA], 'b.')\n",
    "plt.plot([p[0] for p in classB], [p[1] for p in classB], 'r.')\n",
    "plt.axis('equal')\n",
    "plt.grid()\n",
    "plt.axhline(y=0, color='gray')\n",
    "plt.axvline(x=0, color='gray')\n",
    "plt.show()"
   ]
  },
  {
   "cell_type": "markdown",
   "metadata": {},
   "source": [
    "## Let us define som kernel functions"
   ]
  },
  {
   "cell_type": "code",
   "execution_count": 461,
   "metadata": {},
   "outputs": [],
   "source": [
    "def linearKernel(x, y):\n",
    "    return np.dot(x, y)\n",
    "\n",
    "def polynomialKernel(x, y):\n",
    "    p = 3\n",
    "    return (np.dot(x, y) + 1)**p\n",
    "\n",
    "def radialBasisKernel(x, y):\n",
    "    sigma = 1\n",
    "    return math.exp(-(np.linalg.norm(x - y)**2) / (2 * (sigma**2)))"
   ]
  },
  {
   "cell_type": "markdown",
   "metadata": {},
   "source": [
    "## The objective function to minimise"
   ]
  },
  {
   "cell_type": "code",
   "execution_count": 462,
   "metadata": {},
   "outputs": [],
   "source": [
    "def objective(alpha):\n",
    "    sum_alpha = np.sum(alpha)\n",
    "    sum_rest = 0\n",
    "    for i in range(N):\n",
    "        for j in range(N):\n",
    "            sum_rest += alpha[i] * alpha[j] * P[i, j]\n",
    "    return 0.5 * sum_rest - sum_alpha"
   ]
  },
  {
   "cell_type": "markdown",
   "metadata": {},
   "source": [
    "## Implement constraint $\\sum_{i}^{} \\alpha_it_i = 0$"
   ]
  },
  {
   "cell_type": "code",
   "execution_count": 463,
   "metadata": {},
   "outputs": [],
   "source": [
    "def zerofun(alpha):\n",
    "    return np.dot(alpha, targets)"
   ]
  },
  {
   "cell_type": "markdown",
   "metadata": {},
   "source": [
    "## Pre-compute P<sub>i,j</sub> = t<sub>i</sub> t<sub>j</sub> K(x<sub>i</sub>, x<sub>j</sub>)"
   ]
  },
  {
   "cell_type": "code",
   "execution_count": 464,
   "metadata": {},
   "outputs": [],
   "source": [
    "kernel = radialBasisKernel\n",
    "P = np.zeros((N, N))\n",
    "for i in range(N):\n",
    "    for j in range(N):\n",
    "        P[i, j] = targets[i] * targets[j] * kernel(inputs[i], inputs[j])\n",
    "        "
   ]
  },
  {
   "cell_type": "markdown",
   "metadata": {},
   "source": [
    "## Heart of the program will be the following minimise call"
   ]
  },
  {
   "cell_type": "code",
   "execution_count": 465,
   "metadata": {},
   "outputs": [
    {
     "name": "stdout",
     "output_type": "stream",
     "text": [
      "Found solution: True\n"
     ]
    }
   ],
   "source": [
    "C = None\n",
    "start = np.zeros(N)\n",
    "ret = minimize(objective, start, bounds=[(0, C) for b in range(N)], constraints={'type':'eq', 'fun':zerofun})\n",
    "alpha = ret['x']\n",
    "success = ret['success']\n",
    "print(\"Found solution: \" + str(success))"
   ]
  },
  {
   "cell_type": "markdown",
   "metadata": {},
   "source": [
    "## Extract the non-zero α values"
   ]
  },
  {
   "cell_type": "code",
   "execution_count": 466,
   "metadata": {},
   "outputs": [
    {
     "name": "stdout",
     "output_type": "stream",
     "text": [
      "No C set\n"
     ]
    }
   ],
   "source": [
    "zeroThreshhold = 10**-5\n",
    "if C is None:\n",
    "    nonZeroAlphaBool = (zeroThreshhold <= alpha)\n",
    "    print(\"No C set\")\n",
    "else:\n",
    "    nonZeroAlphaBool = (zeroThreshhold <= alpha)  & (alpha <= C)\n",
    "    print(\"C is set\")\n",
    "    \n",
    "nonZeroAlphas = alpha[nonZeroAlphaBool]\n",
    "correspondingInputs = inputs[nonZeroAlphaBool]\n",
    "correspondingTargets = targets[nonZeroAlphaBool]"
   ]
  },
  {
   "cell_type": "markdown",
   "metadata": {},
   "source": [
    "## Calculate b using: b = $\\sum_{i}^{} \\alpha_it_iK(s, x_i) - t_s$ for any SV $s$"
   ]
  },
  {
   "cell_type": "code",
   "execution_count": 467,
   "metadata": {},
   "outputs": [],
   "source": [
    "b = 0\n",
    "for i in range(N):\n",
    "    b += alpha[i] * targets[i] * kernel(correspondingInputs[0], inputs[i])\n",
    "b = b  - correspondingTargets[0]"
   ]
  },
  {
   "cell_type": "markdown",
   "metadata": {},
   "source": [
    "## Define the indicator function (which classifies new points)"
   ]
  },
  {
   "cell_type": "code",
   "execution_count": 468,
   "metadata": {},
   "outputs": [],
   "source": [
    "def indicator(x, y):\n",
    "    ret = 0\n",
    "    for i in range(len(nonZeroAlphas)):\n",
    "        ret += nonZeroAlphas[i] * correspondingTargets[i] * kernel(np.array([x, y]), correspondingInputs[i])\n",
    "    return ret - b"
   ]
  },
  {
   "cell_type": "markdown",
   "metadata": {},
   "source": [
    "## Plot the decision boundry"
   ]
  },
  {
   "cell_type": "code",
   "execution_count": 469,
   "metadata": {},
   "outputs": [
    {
     "data": {
      "image/png": "[encoded data removed]",
      "text/plain": [
       "<Figure size 720x720 with 1 Axes>"
      ]
     },
     "metadata": {
      "needs_background": "light"
     },
     "output_type": "display_data"
    }
   ],
   "source": [
    "xgrid = np.linspace(-0, 4)\n",
    "ygrid = np.linspace(-2, 3)\n",
    "plt.figure(figsize=(10, 10))\n",
    "grid = np.array([[indicator(x, y) for x in xgrid] for y in ygrid])\n",
    "plt.axis('equal')\n",
    "plt.grid()\n",
    "plt.axhline(y=0, color='gray')\n",
    "plt.axvline(x=0, color='gray')\n",
    "plt.contour(xgrid, ygrid, grid, (-1.0, 0.0, 1.0), colors=('red', 'black', 'blue'), linewidths=(1, 3, 1))\n",
    "plt.plot([p[0] for p in classA], [p[1] for p in classA], 'b.')\n",
    "plt.plot([p[0] for p in classB], [p[1] for p in classB], 'r.')\n",
    "plt.xlabel(\"x1\")\n",
    "plt.ylabel(\"x2\")\n",
    "plt.savefig(\"linear_separable\")\n"
   ]
  },
  {
   "cell_type": "code",
   "execution_count": null,
   "metadata": {},
   "outputs": [],
   "source": []
  },
  {
   "cell_type": "code",
   "execution_count": null,
   "metadata": {},
   "outputs": [],
   "source": []
  }
 ],
 "metadata": {
  "kernelspec": {
   "display_name": "Python 3",
   "language": "python",
   "name": "python3"
  },
  "language_info": {
   "codemirror_mode": {
    "name": "ipython",
    "version": 3
   },
   "file_extension": ".py",
   "mimetype": "text/x-python",
   "name": "python",
   "nbconvert_exporter": "python",
   "pygments_lexer": "ipython3",
   "version": "3.7.4"
  }
 },
 "nbformat": 4,
 "nbformat_minor": 2
}
